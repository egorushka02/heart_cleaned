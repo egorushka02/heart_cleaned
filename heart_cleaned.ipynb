{
 "cells": [
  {
   "cell_type": "markdown",
   "metadata": {
    "id": "irNS5AXI3Oyf"
   },
   "source": [
    "# Import libraries"
   ]
  },
  {
   "cell_type": "code",
   "execution_count": 1,
   "metadata": {
    "executionInfo": {
     "elapsed": 933,
     "status": "ok",
     "timestamp": 1650950550726,
     "user": {
      "displayName": "Егор Ушаков",
      "userId": "00106754009712007765"
     },
     "user_tz": -180
    },
    "id": "rDaOurQxOxPg"
   },
   "outputs": [],
   "source": [
    "import pandas as pd\n",
    "\n",
    "import seaborn as sns\n",
    "import matplotlib.pyplot as plt\n",
    "\n",
    "from sklearn.model_selection import train_test_split\n",
    "from sklearn.preprocessing import OrdinalEncoder, OneHotEncoder\n",
    "from sklearn.metrics import accuracy_score\n",
    "from sklearn.neighbors import KNeighborsClassifier\n",
    "from sklearn.svm import SVC\n",
    "from sklearn.ensemble import RandomForestClassifier\n",
    "\n",
    "from xgboost import XGBClassifier\n",
    "\n",
    "import warnings\n",
    "warnings.filterwarnings('ignore')"
   ]
  },
  {
   "cell_type": "markdown",
   "metadata": {
    "id": "dIor_Vzn3v9V"
   },
   "source": [
    "#  Loading data"
   ]
  },
  {
   "cell_type": "code",
   "execution_count": 2,
   "metadata": {
    "colab": {
     "base_uri": "https://localhost:8080/",
     "height": 270
    },
    "executionInfo": {
     "elapsed": 1318,
     "status": "ok",
     "timestamp": 1650950552038,
     "user": {
      "displayName": "Егор Ушаков",
      "userId": "00106754009712007765"
     },
     "user_tz": -180
    },
    "id": "PH7C3nu7O9sG",
    "outputId": "16fd8f11-d422-44f3-8750-799fdeb97697"
   },
   "outputs": [
    {
     "data": {
      "text/html": [
       "<div>\n",
       "<style scoped>\n",
       "    .dataframe tbody tr th:only-of-type {\n",
       "        vertical-align: middle;\n",
       "    }\n",
       "\n",
       "    .dataframe tbody tr th {\n",
       "        vertical-align: top;\n",
       "    }\n",
       "\n",
       "    .dataframe thead th {\n",
       "        text-align: right;\n",
       "    }\n",
       "</style>\n",
       "<table border=\"1\" class=\"dataframe\">\n",
       "  <thead>\n",
       "    <tr style=\"text-align: right;\">\n",
       "      <th></th>\n",
       "      <th>HeartDisease</th>\n",
       "      <th>BMI</th>\n",
       "      <th>Smoking</th>\n",
       "      <th>AlcoholDrinking</th>\n",
       "      <th>Stroke</th>\n",
       "      <th>PhysicalHealth</th>\n",
       "      <th>MentalHealth</th>\n",
       "      <th>DiffWalking</th>\n",
       "      <th>Sex</th>\n",
       "      <th>AgeCategory</th>\n",
       "      <th>Race</th>\n",
       "      <th>Diabetic</th>\n",
       "      <th>PhysicalActivity</th>\n",
       "      <th>GenHealth</th>\n",
       "      <th>SleepTime</th>\n",
       "      <th>Asthma</th>\n",
       "      <th>KidneyDisease</th>\n",
       "      <th>SkinCancer</th>\n",
       "    </tr>\n",
       "  </thead>\n",
       "  <tbody>\n",
       "    <tr>\n",
       "      <th>0</th>\n",
       "      <td>No</td>\n",
       "      <td>16.60</td>\n",
       "      <td>Yes</td>\n",
       "      <td>No</td>\n",
       "      <td>No</td>\n",
       "      <td>3.0</td>\n",
       "      <td>30.0</td>\n",
       "      <td>No</td>\n",
       "      <td>Female</td>\n",
       "      <td>55-59</td>\n",
       "      <td>White</td>\n",
       "      <td>Yes</td>\n",
       "      <td>Yes</td>\n",
       "      <td>Very good</td>\n",
       "      <td>5.0</td>\n",
       "      <td>Yes</td>\n",
       "      <td>No</td>\n",
       "      <td>Yes</td>\n",
       "    </tr>\n",
       "    <tr>\n",
       "      <th>1</th>\n",
       "      <td>No</td>\n",
       "      <td>20.34</td>\n",
       "      <td>No</td>\n",
       "      <td>No</td>\n",
       "      <td>Yes</td>\n",
       "      <td>0.0</td>\n",
       "      <td>0.0</td>\n",
       "      <td>No</td>\n",
       "      <td>Female</td>\n",
       "      <td>80 or older</td>\n",
       "      <td>White</td>\n",
       "      <td>No</td>\n",
       "      <td>Yes</td>\n",
       "      <td>Very good</td>\n",
       "      <td>7.0</td>\n",
       "      <td>No</td>\n",
       "      <td>No</td>\n",
       "      <td>No</td>\n",
       "    </tr>\n",
       "    <tr>\n",
       "      <th>2</th>\n",
       "      <td>No</td>\n",
       "      <td>26.58</td>\n",
       "      <td>Yes</td>\n",
       "      <td>No</td>\n",
       "      <td>No</td>\n",
       "      <td>20.0</td>\n",
       "      <td>30.0</td>\n",
       "      <td>No</td>\n",
       "      <td>Male</td>\n",
       "      <td>65-69</td>\n",
       "      <td>White</td>\n",
       "      <td>Yes</td>\n",
       "      <td>Yes</td>\n",
       "      <td>Fair</td>\n",
       "      <td>8.0</td>\n",
       "      <td>Yes</td>\n",
       "      <td>No</td>\n",
       "      <td>No</td>\n",
       "    </tr>\n",
       "    <tr>\n",
       "      <th>3</th>\n",
       "      <td>No</td>\n",
       "      <td>24.21</td>\n",
       "      <td>No</td>\n",
       "      <td>No</td>\n",
       "      <td>No</td>\n",
       "      <td>0.0</td>\n",
       "      <td>0.0</td>\n",
       "      <td>No</td>\n",
       "      <td>Female</td>\n",
       "      <td>75-79</td>\n",
       "      <td>White</td>\n",
       "      <td>No</td>\n",
       "      <td>No</td>\n",
       "      <td>Good</td>\n",
       "      <td>6.0</td>\n",
       "      <td>No</td>\n",
       "      <td>No</td>\n",
       "      <td>Yes</td>\n",
       "    </tr>\n",
       "    <tr>\n",
       "      <th>4</th>\n",
       "      <td>No</td>\n",
       "      <td>23.71</td>\n",
       "      <td>No</td>\n",
       "      <td>No</td>\n",
       "      <td>No</td>\n",
       "      <td>28.0</td>\n",
       "      <td>0.0</td>\n",
       "      <td>Yes</td>\n",
       "      <td>Female</td>\n",
       "      <td>40-44</td>\n",
       "      <td>White</td>\n",
       "      <td>No</td>\n",
       "      <td>Yes</td>\n",
       "      <td>Very good</td>\n",
       "      <td>8.0</td>\n",
       "      <td>No</td>\n",
       "      <td>No</td>\n",
       "      <td>No</td>\n",
       "    </tr>\n",
       "    <tr>\n",
       "      <th>5</th>\n",
       "      <td>Yes</td>\n",
       "      <td>28.87</td>\n",
       "      <td>Yes</td>\n",
       "      <td>No</td>\n",
       "      <td>No</td>\n",
       "      <td>6.0</td>\n",
       "      <td>0.0</td>\n",
       "      <td>Yes</td>\n",
       "      <td>Female</td>\n",
       "      <td>75-79</td>\n",
       "      <td>Black</td>\n",
       "      <td>No</td>\n",
       "      <td>No</td>\n",
       "      <td>Fair</td>\n",
       "      <td>12.0</td>\n",
       "      <td>No</td>\n",
       "      <td>No</td>\n",
       "      <td>No</td>\n",
       "    </tr>\n",
       "    <tr>\n",
       "      <th>6</th>\n",
       "      <td>No</td>\n",
       "      <td>21.63</td>\n",
       "      <td>No</td>\n",
       "      <td>No</td>\n",
       "      <td>No</td>\n",
       "      <td>15.0</td>\n",
       "      <td>0.0</td>\n",
       "      <td>No</td>\n",
       "      <td>Female</td>\n",
       "      <td>70-74</td>\n",
       "      <td>White</td>\n",
       "      <td>No</td>\n",
       "      <td>Yes</td>\n",
       "      <td>Fair</td>\n",
       "      <td>4.0</td>\n",
       "      <td>Yes</td>\n",
       "      <td>No</td>\n",
       "      <td>Yes</td>\n",
       "    </tr>\n",
       "    <tr>\n",
       "      <th>7</th>\n",
       "      <td>No</td>\n",
       "      <td>31.64</td>\n",
       "      <td>Yes</td>\n",
       "      <td>No</td>\n",
       "      <td>No</td>\n",
       "      <td>5.0</td>\n",
       "      <td>0.0</td>\n",
       "      <td>Yes</td>\n",
       "      <td>Female</td>\n",
       "      <td>80 or older</td>\n",
       "      <td>White</td>\n",
       "      <td>Yes</td>\n",
       "      <td>No</td>\n",
       "      <td>Good</td>\n",
       "      <td>9.0</td>\n",
       "      <td>Yes</td>\n",
       "      <td>No</td>\n",
       "      <td>No</td>\n",
       "    </tr>\n",
       "    <tr>\n",
       "      <th>8</th>\n",
       "      <td>No</td>\n",
       "      <td>26.45</td>\n",
       "      <td>No</td>\n",
       "      <td>No</td>\n",
       "      <td>No</td>\n",
       "      <td>0.0</td>\n",
       "      <td>0.0</td>\n",
       "      <td>No</td>\n",
       "      <td>Female</td>\n",
       "      <td>80 or older</td>\n",
       "      <td>White</td>\n",
       "      <td>No, borderline diabetes</td>\n",
       "      <td>No</td>\n",
       "      <td>Fair</td>\n",
       "      <td>5.0</td>\n",
       "      <td>No</td>\n",
       "      <td>Yes</td>\n",
       "      <td>No</td>\n",
       "    </tr>\n",
       "    <tr>\n",
       "      <th>9</th>\n",
       "      <td>No</td>\n",
       "      <td>40.69</td>\n",
       "      <td>No</td>\n",
       "      <td>No</td>\n",
       "      <td>No</td>\n",
       "      <td>0.0</td>\n",
       "      <td>0.0</td>\n",
       "      <td>Yes</td>\n",
       "      <td>Male</td>\n",
       "      <td>65-69</td>\n",
       "      <td>White</td>\n",
       "      <td>No</td>\n",
       "      <td>Yes</td>\n",
       "      <td>Good</td>\n",
       "      <td>10.0</td>\n",
       "      <td>No</td>\n",
       "      <td>No</td>\n",
       "      <td>No</td>\n",
       "    </tr>\n",
       "    <tr>\n",
       "      <th>10</th>\n",
       "      <td>Yes</td>\n",
       "      <td>34.30</td>\n",
       "      <td>Yes</td>\n",
       "      <td>No</td>\n",
       "      <td>No</td>\n",
       "      <td>30.0</td>\n",
       "      <td>0.0</td>\n",
       "      <td>Yes</td>\n",
       "      <td>Male</td>\n",
       "      <td>60-64</td>\n",
       "      <td>White</td>\n",
       "      <td>Yes</td>\n",
       "      <td>No</td>\n",
       "      <td>Poor</td>\n",
       "      <td>15.0</td>\n",
       "      <td>Yes</td>\n",
       "      <td>No</td>\n",
       "      <td>No</td>\n",
       "    </tr>\n",
       "    <tr>\n",
       "      <th>11</th>\n",
       "      <td>No</td>\n",
       "      <td>28.71</td>\n",
       "      <td>Yes</td>\n",
       "      <td>No</td>\n",
       "      <td>No</td>\n",
       "      <td>0.0</td>\n",
       "      <td>0.0</td>\n",
       "      <td>No</td>\n",
       "      <td>Female</td>\n",
       "      <td>55-59</td>\n",
       "      <td>White</td>\n",
       "      <td>No</td>\n",
       "      <td>Yes</td>\n",
       "      <td>Very good</td>\n",
       "      <td>5.0</td>\n",
       "      <td>No</td>\n",
       "      <td>No</td>\n",
       "      <td>No</td>\n",
       "    </tr>\n",
       "    <tr>\n",
       "      <th>12</th>\n",
       "      <td>No</td>\n",
       "      <td>28.37</td>\n",
       "      <td>Yes</td>\n",
       "      <td>No</td>\n",
       "      <td>No</td>\n",
       "      <td>0.0</td>\n",
       "      <td>0.0</td>\n",
       "      <td>Yes</td>\n",
       "      <td>Male</td>\n",
       "      <td>75-79</td>\n",
       "      <td>White</td>\n",
       "      <td>Yes</td>\n",
       "      <td>Yes</td>\n",
       "      <td>Very good</td>\n",
       "      <td>8.0</td>\n",
       "      <td>No</td>\n",
       "      <td>No</td>\n",
       "      <td>No</td>\n",
       "    </tr>\n",
       "    <tr>\n",
       "      <th>13</th>\n",
       "      <td>No</td>\n",
       "      <td>28.15</td>\n",
       "      <td>No</td>\n",
       "      <td>No</td>\n",
       "      <td>No</td>\n",
       "      <td>7.0</td>\n",
       "      <td>0.0</td>\n",
       "      <td>Yes</td>\n",
       "      <td>Female</td>\n",
       "      <td>80 or older</td>\n",
       "      <td>White</td>\n",
       "      <td>No</td>\n",
       "      <td>No</td>\n",
       "      <td>Good</td>\n",
       "      <td>7.0</td>\n",
       "      <td>No</td>\n",
       "      <td>No</td>\n",
       "      <td>No</td>\n",
       "    </tr>\n",
       "    <tr>\n",
       "      <th>14</th>\n",
       "      <td>No</td>\n",
       "      <td>29.29</td>\n",
       "      <td>Yes</td>\n",
       "      <td>No</td>\n",
       "      <td>No</td>\n",
       "      <td>0.0</td>\n",
       "      <td>30.0</td>\n",
       "      <td>Yes</td>\n",
       "      <td>Female</td>\n",
       "      <td>60-64</td>\n",
       "      <td>White</td>\n",
       "      <td>No</td>\n",
       "      <td>No</td>\n",
       "      <td>Good</td>\n",
       "      <td>5.0</td>\n",
       "      <td>No</td>\n",
       "      <td>No</td>\n",
       "      <td>No</td>\n",
       "    </tr>\n",
       "    <tr>\n",
       "      <th>15</th>\n",
       "      <td>No</td>\n",
       "      <td>29.18</td>\n",
       "      <td>No</td>\n",
       "      <td>No</td>\n",
       "      <td>No</td>\n",
       "      <td>1.0</td>\n",
       "      <td>0.0</td>\n",
       "      <td>No</td>\n",
       "      <td>Female</td>\n",
       "      <td>50-54</td>\n",
       "      <td>White</td>\n",
       "      <td>No</td>\n",
       "      <td>Yes</td>\n",
       "      <td>Very good</td>\n",
       "      <td>6.0</td>\n",
       "      <td>No</td>\n",
       "      <td>No</td>\n",
       "      <td>No</td>\n",
       "    </tr>\n",
       "    <tr>\n",
       "      <th>16</th>\n",
       "      <td>No</td>\n",
       "      <td>26.26</td>\n",
       "      <td>No</td>\n",
       "      <td>No</td>\n",
       "      <td>No</td>\n",
       "      <td>5.0</td>\n",
       "      <td>2.0</td>\n",
       "      <td>No</td>\n",
       "      <td>Female</td>\n",
       "      <td>70-74</td>\n",
       "      <td>White</td>\n",
       "      <td>No</td>\n",
       "      <td>No</td>\n",
       "      <td>Very good</td>\n",
       "      <td>10.0</td>\n",
       "      <td>No</td>\n",
       "      <td>No</td>\n",
       "      <td>No</td>\n",
       "    </tr>\n",
       "    <tr>\n",
       "      <th>17</th>\n",
       "      <td>No</td>\n",
       "      <td>22.59</td>\n",
       "      <td>Yes</td>\n",
       "      <td>No</td>\n",
       "      <td>No</td>\n",
       "      <td>0.0</td>\n",
       "      <td>30.0</td>\n",
       "      <td>Yes</td>\n",
       "      <td>Male</td>\n",
       "      <td>70-74</td>\n",
       "      <td>White</td>\n",
       "      <td>No, borderline diabetes</td>\n",
       "      <td>Yes</td>\n",
       "      <td>Good</td>\n",
       "      <td>8.0</td>\n",
       "      <td>No</td>\n",
       "      <td>No</td>\n",
       "      <td>No</td>\n",
       "    </tr>\n",
       "    <tr>\n",
       "      <th>18</th>\n",
       "      <td>No</td>\n",
       "      <td>29.86</td>\n",
       "      <td>Yes</td>\n",
       "      <td>No</td>\n",
       "      <td>No</td>\n",
       "      <td>0.0</td>\n",
       "      <td>0.0</td>\n",
       "      <td>Yes</td>\n",
       "      <td>Female</td>\n",
       "      <td>75-79</td>\n",
       "      <td>Black</td>\n",
       "      <td>Yes</td>\n",
       "      <td>No</td>\n",
       "      <td>Fair</td>\n",
       "      <td>5.0</td>\n",
       "      <td>No</td>\n",
       "      <td>Yes</td>\n",
       "      <td>No</td>\n",
       "    </tr>\n",
       "    <tr>\n",
       "      <th>19</th>\n",
       "      <td>No</td>\n",
       "      <td>18.13</td>\n",
       "      <td>No</td>\n",
       "      <td>No</td>\n",
       "      <td>No</td>\n",
       "      <td>0.0</td>\n",
       "      <td>0.0</td>\n",
       "      <td>No</td>\n",
       "      <td>Male</td>\n",
       "      <td>80 or older</td>\n",
       "      <td>White</td>\n",
       "      <td>No</td>\n",
       "      <td>Yes</td>\n",
       "      <td>Excellent</td>\n",
       "      <td>8.0</td>\n",
       "      <td>No</td>\n",
       "      <td>No</td>\n",
       "      <td>Yes</td>\n",
       "    </tr>\n",
       "  </tbody>\n",
       "</table>\n",
       "</div>"
      ],
      "text/plain": [
       "   HeartDisease    BMI Smoking AlcoholDrinking Stroke  PhysicalHealth  \\\n",
       "0            No  16.60     Yes              No     No             3.0   \n",
       "1            No  20.34      No              No    Yes             0.0   \n",
       "2            No  26.58     Yes              No     No            20.0   \n",
       "3            No  24.21      No              No     No             0.0   \n",
       "4            No  23.71      No              No     No            28.0   \n",
       "5           Yes  28.87     Yes              No     No             6.0   \n",
       "6            No  21.63      No              No     No            15.0   \n",
       "7            No  31.64     Yes              No     No             5.0   \n",
       "8            No  26.45      No              No     No             0.0   \n",
       "9            No  40.69      No              No     No             0.0   \n",
       "10          Yes  34.30     Yes              No     No            30.0   \n",
       "11           No  28.71     Yes              No     No             0.0   \n",
       "12           No  28.37     Yes              No     No             0.0   \n",
       "13           No  28.15      No              No     No             7.0   \n",
       "14           No  29.29     Yes              No     No             0.0   \n",
       "15           No  29.18      No              No     No             1.0   \n",
       "16           No  26.26      No              No     No             5.0   \n",
       "17           No  22.59     Yes              No     No             0.0   \n",
       "18           No  29.86     Yes              No     No             0.0   \n",
       "19           No  18.13      No              No     No             0.0   \n",
       "\n",
       "    MentalHealth DiffWalking     Sex  AgeCategory   Race  \\\n",
       "0           30.0          No  Female        55-59  White   \n",
       "1            0.0          No  Female  80 or older  White   \n",
       "2           30.0          No    Male        65-69  White   \n",
       "3            0.0          No  Female        75-79  White   \n",
       "4            0.0         Yes  Female        40-44  White   \n",
       "5            0.0         Yes  Female        75-79  Black   \n",
       "6            0.0          No  Female        70-74  White   \n",
       "7            0.0         Yes  Female  80 or older  White   \n",
       "8            0.0          No  Female  80 or older  White   \n",
       "9            0.0         Yes    Male        65-69  White   \n",
       "10           0.0         Yes    Male        60-64  White   \n",
       "11           0.0          No  Female        55-59  White   \n",
       "12           0.0         Yes    Male        75-79  White   \n",
       "13           0.0         Yes  Female  80 or older  White   \n",
       "14          30.0         Yes  Female        60-64  White   \n",
       "15           0.0          No  Female        50-54  White   \n",
       "16           2.0          No  Female        70-74  White   \n",
       "17          30.0         Yes    Male        70-74  White   \n",
       "18           0.0         Yes  Female        75-79  Black   \n",
       "19           0.0          No    Male  80 or older  White   \n",
       "\n",
       "                   Diabetic PhysicalActivity  GenHealth  SleepTime Asthma  \\\n",
       "0                       Yes              Yes  Very good        5.0    Yes   \n",
       "1                        No              Yes  Very good        7.0     No   \n",
       "2                       Yes              Yes       Fair        8.0    Yes   \n",
       "3                        No               No       Good        6.0     No   \n",
       "4                        No              Yes  Very good        8.0     No   \n",
       "5                        No               No       Fair       12.0     No   \n",
       "6                        No              Yes       Fair        4.0    Yes   \n",
       "7                       Yes               No       Good        9.0    Yes   \n",
       "8   No, borderline diabetes               No       Fair        5.0     No   \n",
       "9                        No              Yes       Good       10.0     No   \n",
       "10                      Yes               No       Poor       15.0    Yes   \n",
       "11                       No              Yes  Very good        5.0     No   \n",
       "12                      Yes              Yes  Very good        8.0     No   \n",
       "13                       No               No       Good        7.0     No   \n",
       "14                       No               No       Good        5.0     No   \n",
       "15                       No              Yes  Very good        6.0     No   \n",
       "16                       No               No  Very good       10.0     No   \n",
       "17  No, borderline diabetes              Yes       Good        8.0     No   \n",
       "18                      Yes               No       Fair        5.0     No   \n",
       "19                       No              Yes  Excellent        8.0     No   \n",
       "\n",
       "   KidneyDisease SkinCancer  \n",
       "0             No        Yes  \n",
       "1             No         No  \n",
       "2             No         No  \n",
       "3             No        Yes  \n",
       "4             No         No  \n",
       "5             No         No  \n",
       "6             No        Yes  \n",
       "7             No         No  \n",
       "8            Yes         No  \n",
       "9             No         No  \n",
       "10            No         No  \n",
       "11            No         No  \n",
       "12            No         No  \n",
       "13            No         No  \n",
       "14            No         No  \n",
       "15            No         No  \n",
       "16            No         No  \n",
       "17            No         No  \n",
       "18           Yes         No  \n",
       "19            No        Yes  "
      ]
     },
     "execution_count": 2,
     "metadata": {},
     "output_type": "execute_result"
    }
   ],
   "source": [
    "file_path = 'heart_2020_cleaned.csv'\n",
    "df = pd.read_csv(file_path)\n",
    "df[:20]"
   ]
  },
  {
   "cell_type": "markdown",
   "metadata": {
    "id": "exrYyno9o-UH"
   },
   "source": [
    "Набор данных - данные ежегодного опроса CDC за 2020 год примерно 400000 взрослых связанные с состоянием их здоровья. Первый столбец - наличие сердечных заболеваний, остальные - ключевые индикаторы сердечно-сосудистых заболеваний. Задача является задачей бинарной классификации."
   ]
  },
  {
   "cell_type": "markdown",
   "metadata": {
    "id": "FkrXTz9w5DKI"
   },
   "source": [
    "# EDA + feature engineering"
   ]
  },
  {
   "cell_type": "code",
   "execution_count": 3,
   "metadata": {
    "colab": {
     "base_uri": "https://localhost:8080/"
    },
    "executionInfo": {
     "elapsed": 587,
     "status": "ok",
     "timestamp": 1650950552621,
     "user": {
      "displayName": "Егор Ушаков",
      "userId": "00106754009712007765"
     },
     "user_tz": -180
    },
    "id": "eV6n1FQ55Mw2",
    "outputId": "36e3121f-b9e5-4c25-eb68-34d5f55a98f9"
   },
   "outputs": [
    {
     "name": "stdout",
     "output_type": "stream",
     "text": [
      "<class 'pandas.core.frame.DataFrame'>\n",
      "RangeIndex: 319795 entries, 0 to 319794\n",
      "Data columns (total 18 columns):\n",
      " #   Column            Non-Null Count   Dtype  \n",
      "---  ------            --------------   -----  \n",
      " 0   HeartDisease      319795 non-null  object \n",
      " 1   BMI               319795 non-null  float64\n",
      " 2   Smoking           319795 non-null  object \n",
      " 3   AlcoholDrinking   319795 non-null  object \n",
      " 4   Stroke            319795 non-null  object \n",
      " 5   PhysicalHealth    319795 non-null  float64\n",
      " 6   MentalHealth      319795 non-null  float64\n",
      " 7   DiffWalking       319795 non-null  object \n",
      " 8   Sex               319795 non-null  object \n",
      " 9   AgeCategory       319795 non-null  object \n",
      " 10  Race              319795 non-null  object \n",
      " 11  Diabetic          319795 non-null  object \n",
      " 12  PhysicalActivity  319795 non-null  object \n",
      " 13  GenHealth         319795 non-null  object \n",
      " 14  SleepTime         319795 non-null  float64\n",
      " 15  Asthma            319795 non-null  object \n",
      " 16  KidneyDisease     319795 non-null  object \n",
      " 17  SkinCancer        319795 non-null  object \n",
      "dtypes: float64(4), object(14)\n",
      "memory usage: 43.9+ MB\n"
     ]
    }
   ],
   "source": [
    "df.info()"
   ]
  },
  {
   "cell_type": "markdown",
   "metadata": {
    "id": "tlbDzn8TmRoq"
   },
   "source": [
    "выводим информацию о датасете, отсутствующих значений нет, 4 столбца с числовыми данными."
   ]
  },
  {
   "cell_type": "code",
   "execution_count": 4,
   "metadata": {
    "colab": {
     "base_uri": "https://localhost:8080/",
     "height": 300
    },
    "executionInfo": {
     "elapsed": 11,
     "status": "ok",
     "timestamp": 1650950552623,
     "user": {
      "displayName": "Егор Ушаков",
      "userId": "00106754009712007765"
     },
     "user_tz": -180
    },
    "id": "Owx4DvqVQRmd",
    "outputId": "b2c47d1b-2080-4968-871e-0e49cefb1405"
   },
   "outputs": [
    {
     "data": {
      "text/html": [
       "<div>\n",
       "<style scoped>\n",
       "    .dataframe tbody tr th:only-of-type {\n",
       "        vertical-align: middle;\n",
       "    }\n",
       "\n",
       "    .dataframe tbody tr th {\n",
       "        vertical-align: top;\n",
       "    }\n",
       "\n",
       "    .dataframe thead th {\n",
       "        text-align: right;\n",
       "    }\n",
       "</style>\n",
       "<table border=\"1\" class=\"dataframe\">\n",
       "  <thead>\n",
       "    <tr style=\"text-align: right;\">\n",
       "      <th></th>\n",
       "      <th>BMI</th>\n",
       "      <th>PhysicalHealth</th>\n",
       "      <th>MentalHealth</th>\n",
       "      <th>SleepTime</th>\n",
       "    </tr>\n",
       "  </thead>\n",
       "  <tbody>\n",
       "    <tr>\n",
       "      <th>count</th>\n",
       "      <td>319795.000000</td>\n",
       "      <td>319795.00000</td>\n",
       "      <td>319795.000000</td>\n",
       "      <td>319795.000000</td>\n",
       "    </tr>\n",
       "    <tr>\n",
       "      <th>mean</th>\n",
       "      <td>28.325399</td>\n",
       "      <td>3.37171</td>\n",
       "      <td>3.898366</td>\n",
       "      <td>7.097075</td>\n",
       "    </tr>\n",
       "    <tr>\n",
       "      <th>std</th>\n",
       "      <td>6.356100</td>\n",
       "      <td>7.95085</td>\n",
       "      <td>7.955235</td>\n",
       "      <td>1.436007</td>\n",
       "    </tr>\n",
       "    <tr>\n",
       "      <th>min</th>\n",
       "      <td>12.020000</td>\n",
       "      <td>0.00000</td>\n",
       "      <td>0.000000</td>\n",
       "      <td>1.000000</td>\n",
       "    </tr>\n",
       "    <tr>\n",
       "      <th>25%</th>\n",
       "      <td>24.030000</td>\n",
       "      <td>0.00000</td>\n",
       "      <td>0.000000</td>\n",
       "      <td>6.000000</td>\n",
       "    </tr>\n",
       "    <tr>\n",
       "      <th>50%</th>\n",
       "      <td>27.340000</td>\n",
       "      <td>0.00000</td>\n",
       "      <td>0.000000</td>\n",
       "      <td>7.000000</td>\n",
       "    </tr>\n",
       "    <tr>\n",
       "      <th>75%</th>\n",
       "      <td>31.420000</td>\n",
       "      <td>2.00000</td>\n",
       "      <td>3.000000</td>\n",
       "      <td>8.000000</td>\n",
       "    </tr>\n",
       "    <tr>\n",
       "      <th>max</th>\n",
       "      <td>94.850000</td>\n",
       "      <td>30.00000</td>\n",
       "      <td>30.000000</td>\n",
       "      <td>24.000000</td>\n",
       "    </tr>\n",
       "  </tbody>\n",
       "</table>\n",
       "</div>"
      ],
      "text/plain": [
       "                 BMI  PhysicalHealth   MentalHealth      SleepTime\n",
       "count  319795.000000    319795.00000  319795.000000  319795.000000\n",
       "mean       28.325399         3.37171       3.898366       7.097075\n",
       "std         6.356100         7.95085       7.955235       1.436007\n",
       "min        12.020000         0.00000       0.000000       1.000000\n",
       "25%        24.030000         0.00000       0.000000       6.000000\n",
       "50%        27.340000         0.00000       0.000000       7.000000\n",
       "75%        31.420000         2.00000       3.000000       8.000000\n",
       "max        94.850000        30.00000      30.000000      24.000000"
      ]
     },
     "execution_count": 4,
     "metadata": {},
     "output_type": "execute_result"
    }
   ],
   "source": [
    "#выводим статистику по числовым параметрам\n",
    "df.describe()"
   ]
  },
  {
   "cell_type": "code",
   "execution_count": 5,
   "metadata": {
    "colab": {
     "base_uri": "https://localhost:8080/",
     "height": 395
    },
    "executionInfo": {
     "elapsed": 626,
     "status": "ok",
     "timestamp": 1650950553239,
     "user": {
      "displayName": "Егор Ушаков",
      "userId": "00106754009712007765"
     },
     "user_tz": -180
    },
    "id": "b3hBf2Y_5SzP",
    "outputId": "f1ca3107-acdb-4dc3-a6e8-da4852d2663a"
   },
   "outputs": [
    {
     "data": {
      "text/plain": [
       "<AxesSubplot:>"
      ]
     },
     "execution_count": 5,
     "metadata": {},
     "output_type": "execute_result"
    },
    {
     "data": {
      "image/png": "[encoded data removed]",
      "text/plain": [
       "<Figure size 576x432 with 2 Axes>"
      ]
     },
     "metadata": {
      "needs_background": "light"
     },
     "output_type": "display_data"
    }
   ],
   "source": [
    "plt.figure(figsize = (8, 6))\n",
    "sns.heatmap(df.corr(method = 'spearman'), annot = True, fmt = \".1f\")"
   ]
  },
  {
   "cell_type": "code",
   "execution_count": 6,
   "metadata": {
    "colab": {
     "base_uri": "https://localhost:8080/",
     "height": 403
    },
    "executionInfo": {
     "elapsed": 921,
     "status": "ok",
     "timestamp": 1650950554153,
     "user": {
      "displayName": "Егор Ушаков",
      "userId": "00106754009712007765"
     },
     "user_tz": -180
    },
    "id": "O93Q-ifn6DJU",
    "outputId": "83426028-1024-4b63-eb17-85db66092b38"
   },
   "outputs": [
    {
     "data": {
      "text/plain": [
       "Text(0.5, 1.0, 'Гистограмма целевой переменной HeartDisease')"
      ]
     },
     "execution_count": 6,
     "metadata": {},
     "output_type": "execute_result"
    },
    {
     "data": {
      "image/png": "[encoded data removed]",
      "text/plain": [
       "<Figure size 360x360 with 1 Axes>"
      ]
     },
     "metadata": {
      "needs_background": "light"
     },
     "output_type": "display_data"
    }
   ],
   "source": [
    "sns.displot(df.HeartDisease, bins = 100, kde = False)\n",
    "plt.title(\"Гистограмма целевой переменной HeartDisease\")"
   ]
  },
  {
   "cell_type": "code",
   "execution_count": 16,
   "metadata": {},
   "outputs": [
    {
     "data": {
      "text/plain": [
       "<AxesSubplot:ylabel='Heart Disease'>"
      ]
     },
     "execution_count": 16,
     "metadata": {},
     "output_type": "execute_result"
    },
    {
     "data": {
      "image/png": "[encoded data removed]",
      "text/plain": [
       "<Figure size 432x288 with 1 Axes>"
      ]
     },
     "metadata": {},
     "output_type": "display_data"
    }
   ],
   "source": [
    "df.groupby('HeartDisease').size().plot(kind='pie',legend=True, label=\"Heart Disease\")"
   ]
  },
  {
   "cell_type": "markdown",
   "metadata": {
    "id": "b-orgWWm6uXR"
   },
   "source": [
    "# Preprocessing data"
   ]
  },
  {
   "cell_type": "code",
   "execution_count": 7,
   "metadata": {
    "colab": {
     "base_uri": "https://localhost:8080/"
    },
    "executionInfo": {
     "elapsed": 16,
     "status": "ok",
     "timestamp": 1650950554155,
     "user": {
      "displayName": "Егор Ушаков",
      "userId": "00106754009712007765"
     },
     "user_tz": -180
    },
    "id": "796nkIN74PVI",
    "outputId": "6302f0e9-0f21-4a6f-ed30-855395259aaa"
   },
   "outputs": [
    {
     "name": "stdout",
     "output_type": "stream",
     "text": [
      "Categorical variables:\n",
      "['HeartDisease', 'Smoking', 'AlcoholDrinking', 'Stroke', 'DiffWalking', 'Sex', 'AgeCategory', 'Race', 'Diabetic', 'PhysicalActivity', 'GenHealth', 'Asthma', 'KidneyDisease', 'SkinCancer']\n",
      "Numerical variables:\n",
      "['BMI', 'PhysicalHealth', 'MentalHealth', 'SleepTime']\n"
     ]
    }
   ],
   "source": [
    "#функция, возвращающая массив столбцов с определенным типом данных\n",
    "def get_type_cols(frame, type):\n",
    "  s = (frame.dtypes == type)\n",
    "  return list(s[s].index)\n",
    "\n",
    "#получаем столбец категориальных переменных\n",
    "df_cat_cols = get_type_cols(df, 'object')\n",
    "print(\"Categorical variables:\")\n",
    "print(df_cat_cols)\n",
    "\n",
    "#получаем столбец числовых переменных\n",
    "df_num_cols = get_type_cols(df, 'float64')\n",
    "print('Numerical variables:')\n",
    "print(df_num_cols)"
   ]
  },
  {
   "cell_type": "code",
   "execution_count": 8,
   "metadata": {
    "executionInfo": {
     "elapsed": 14,
     "status": "ok",
     "timestamp": 1650950554156,
     "user": {
      "displayName": "Егор Ушаков",
      "userId": "00106754009712007765"
     },
     "user_tz": -180
    },
    "id": "XQCDcVAmR_Mx"
   },
   "outputs": [],
   "source": [
    "#испоьзуем OrdinalEncoder для изменения значений определяемого столбца\n",
    "ordinal_encoder = OrdinalEncoder()\n",
    "\n",
    "df[['HeartDisease']] = ordinal_encoder.fit_transform(df[['HeartDisease']])"
   ]
  },
  {
   "cell_type": "code",
   "execution_count": 9,
   "metadata": {
    "executionInfo": {
     "elapsed": 15,
     "status": "ok",
     "timestamp": 1650950554158,
     "user": {
      "displayName": "Егор Ушаков",
      "userId": "00106754009712007765"
     },
     "user_tz": -180
    },
    "id": "9njAgP5f5v7o"
   },
   "outputs": [],
   "source": [
    "\n",
    "X = df.drop(['HeartDisease'], axis = 1)\n",
    "y = df.HeartDisease\n",
    "\n",
    "X_train, X_valid, y_train, y_valid = train_test_split(X, y, train_size = 0.8, \n",
    "                                                      test_size = 0.2, random_state = 0)"
   ]
  },
  {
   "cell_type": "code",
   "execution_count": 10,
   "metadata": {
    "colab": {
     "base_uri": "https://localhost:8080/"
    },
    "executionInfo": {
     "elapsed": 17,
     "status": "ok",
     "timestamp": 1650950554160,
     "user": {
      "displayName": "Егор Ушаков",
      "userId": "00106754009712007765"
     },
     "user_tz": -180
    },
    "id": "nEtdFSuh7RtN",
    "outputId": "f56aa469-6473-4d97-818b-44479060e3d0"
   },
   "outputs": [
    {
     "name": "stdout",
     "output_type": "stream",
     "text": [
      "Categorical columns in X_train: \n",
      "['Smoking', 'AlcoholDrinking', 'Stroke', 'DiffWalking', 'Sex', 'AgeCategory', 'Race', 'Diabetic', 'PhysicalActivity', 'GenHealth', 'Asthma', 'KidneyDisease', 'SkinCancer']\n"
     ]
    }
   ],
   "source": [
    "train_cat_cols = get_type_cols(X_train, 'object')\n",
    "print(\"Categorical columns in X_train: \")\n",
    "print(train_cat_cols)"
   ]
  },
  {
   "cell_type": "code",
   "execution_count": 11,
   "metadata": {
    "executionInfo": {
     "elapsed": 2636,
     "status": "ok",
     "timestamp": 1650950556782,
     "user": {
      "displayName": "Егор Ушаков",
      "userId": "00106754009712007765"
     },
     "user_tz": -180
    },
    "id": "Ary3Xq5O8qQS"
   },
   "outputs": [],
   "source": [
    "#Используем OneHotEncoder для определяющих переменных\n",
    "OH_encoder = OneHotEncoder(handle_unknown = 'ignore', \n",
    "                           sparse = False)\n",
    "OH_cols_train = pd.DataFrame(OH_encoder.fit_transform(X_train[train_cat_cols]))\n",
    "OH_cols_valid = pd.DataFrame(OH_encoder.fit_transform(X_valid[train_cat_cols]))\n",
    "\n",
    "OH_cols_train.index = X_train.index\n",
    "OH_cols_valid.index = X_valid.index\n",
    "\n",
    "num_X_train = X_train.drop(train_cat_cols, axis = 1)\n",
    "num_X_valid = X_valid.drop(train_cat_cols, axis = 1)\n",
    "\n",
    "OH_X_train = pd.concat([num_X_train, OH_cols_train], axis = 1)\n",
    "OH_X_valid = pd.concat([num_X_valid, OH_cols_valid], axis = 1)"
   ]
  },
  {
   "cell_type": "markdown",
   "metadata": {
    "id": "a0zsAABF_5n2"
   },
   "source": [
    "# Modeling"
   ]
  },
  {
   "cell_type": "code",
   "execution_count": 12,
   "metadata": {
    "executionInfo": {
     "elapsed": 7,
     "status": "ok",
     "timestamp": 1650950556783,
     "user": {
      "displayName": "Егор Ушаков",
      "userId": "00106754009712007765"
     },
     "user_tz": -180
    },
    "id": "g-aPU4s5_-Po"
   },
   "outputs": [],
   "source": [
    "#тренировка модели и получение результатов проверки\n",
    "def get_preds(model, X_train, X_valid, y_train):\n",
    "  model.fit(X_train, y_train)\n",
    "  return model.predict(X_valid)\n",
    "\n",
    "#оценивание точности модели с помощью нормализованной\n",
    "#и ненормализованной метрики accuracy\n",
    "def get_accuracy(preds, y_valid):\n",
    "  print(\"ratio: \", accuracy_score(preds, y_valid))\n",
    "  print(\"number of correct predictions\", accuracy_score(preds, y_valid, normalize = False))"
   ]
  },
  {
   "cell_type": "code",
   "execution_count": 13,
   "metadata": {
    "executionInfo": {
     "elapsed": 7,
     "status": "ok",
     "timestamp": 1650950556783,
     "user": {
      "displayName": "Егор Ушаков",
      "userId": "00106754009712007765"
     },
     "user_tz": -180
    },
    "id": "lCZ8YyyTCCc5"
   },
   "outputs": [],
   "source": [
    "#определение моделей\n",
    "KNclass = KNeighborsClassifier(n_neighbors = 5)\n",
    "XGBclass = XGBClassifier(n_estimators = 1000)\n",
    "RFclass = RandomForestClassifier(n_estimators = 500, random_state = 0)\n",
    "classifiers = [KNclass, XGBclass, RFclass]"
   ]
  },
  {
   "cell_type": "code",
   "execution_count": 14,
   "metadata": {
    "colab": {
     "base_uri": "https://localhost:8080/"
    },
    "executionInfo": {
     "elapsed": 1027435,
     "status": "ok",
     "timestamp": 1650951584212,
     "user": {
      "displayName": "Егор Ушаков",
      "userId": "00106754009712007765"
     },
     "user_tz": -180
    },
    "id": "a6z9eD_8FVsJ",
    "outputId": "e42ab970-0a25-433a-cd98-b67bfa7a1bac"
   },
   "outputs": [
    {
     "name": "stdout",
     "output_type": "stream",
     "text": [
      "KNeighborsClassifier()\n",
      "ratio:  0.908613330414797\n",
      "number of correct predictions 58114\n",
      "------------------------------ \n",
      "\n",
      "XGBClassifier(n_estimators=1000)\n",
      "ratio:  0.9164777435544645\n",
      "number of correct predictions 58617\n",
      "------------------------------ \n",
      "\n",
      "RandomForestClassifier(n_estimators=500, random_state=0)\n",
      "ratio:  0.9040791757219468\n",
      "number of correct predictions 57824\n",
      "------------------------------ \n",
      "\n"
     ]
    }
   ],
   "source": [
    "#оцениваем точность каждой модели\n",
    "for classifier in classifiers:\n",
    "  print(classifier)\n",
    "  prediction = get_preds(classifier, OH_X_train, OH_X_valid, y_train)\n",
    "  get_accuracy(prediction, y_valid)\n",
    "  print(\"-\"*30, '\\n')"
   ]
  },
  {
   "cell_type": "markdown",
   "metadata": {
    "id": "0ZCqlRtYoTcN"
   },
   "source": [
    "Наибольшую точность получил классификатор XGBClassofier"
   ]
  }
 ],
 "metadata": {
  "colab": {
   "authorship_tag": "ABX9TyPXupx4y16weCf0K0DcR+Pm",
   "collapsed_sections": [],
   "mount_file_id": "1v0JaktO2U5NTHE4fmn9tV1OXDf_P2c6-",
   "name": "heart_cleaned.ipynb",
   "provenance": []
  },
  "kernelspec": {
   "display_name": "Python 3 (ipykernel)",
   "language": "python",
   "name": "python3"
  },
  "language_info": {
   "codemirror_mode": {
    "name": "ipython",
    "version": 3
   },
   "file_extension": ".py",
   "mimetype": "text/x-python",
   "name": "python",
   "nbconvert_exporter": "python",
   "pygments_lexer": "ipython3",
   "version": "3.8.0"
  }
 },
 "nbformat": 4,
 "nbformat_minor": 1
}
